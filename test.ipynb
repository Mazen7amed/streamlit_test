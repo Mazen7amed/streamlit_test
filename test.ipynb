{
 "cells": [
  {
   "cell_type": "code",
   "execution_count": 2,
   "metadata": {},
   "outputs": [
    {
     "name": "stdout",
     "output_type": "stream",
     "text": [
      "Collecting selenium_stealth\n",
      "  Downloading selenium_stealth-1.0.6-py3-none-any.whl.metadata (6.4 kB)\n",
      "Requirement already satisfied: selenium in c:\\users\\hmaze\\.conda\\envs\\analysis\\lib\\site-packages (from selenium_stealth) (4.27.1)\n",
      "Requirement already satisfied: urllib3<3,>=1.26 in c:\\users\\hmaze\\.conda\\envs\\analysis\\lib\\site-packages (from urllib3[socks]<3,>=1.26->selenium->selenium_stealth) (2.3.0)\n",
      "Requirement already satisfied: trio~=0.17 in c:\\users\\hmaze\\.conda\\envs\\analysis\\lib\\site-packages (from selenium->selenium_stealth) (0.28.0)\n",
      "Requirement already satisfied: trio-websocket~=0.9 in c:\\users\\hmaze\\.conda\\envs\\analysis\\lib\\site-packages (from selenium->selenium_stealth) (0.11.1)\n",
      "Requirement already satisfied: certifi>=2021.10.8 in c:\\users\\hmaze\\.conda\\envs\\analysis\\lib\\site-packages (from selenium->selenium_stealth) (2024.12.14)\n",
      "Requirement already satisfied: typing_extensions~=4.9 in c:\\users\\hmaze\\.conda\\envs\\analysis\\lib\\site-packages (from selenium->selenium_stealth) (4.12.2)\n",
      "Requirement already satisfied: websocket-client~=1.8 in c:\\users\\hmaze\\.conda\\envs\\analysis\\lib\\site-packages (from selenium->selenium_stealth) (1.8.0)\n",
      "Requirement already satisfied: attrs>=23.2.0 in c:\\users\\hmaze\\.conda\\envs\\analysis\\lib\\site-packages (from trio~=0.17->selenium->selenium_stealth) (24.3.0)\n",
      "Requirement already satisfied: sortedcontainers in c:\\users\\hmaze\\.conda\\envs\\analysis\\lib\\site-packages (from trio~=0.17->selenium->selenium_stealth) (2.4.0)\n",
      "Requirement already satisfied: idna in c:\\users\\hmaze\\.conda\\envs\\analysis\\lib\\site-packages (from trio~=0.17->selenium->selenium_stealth) (3.10)\n",
      "Requirement already satisfied: outcome in c:\\users\\hmaze\\.conda\\envs\\analysis\\lib\\site-packages (from trio~=0.17->selenium->selenium_stealth) (1.3.0.post0)\n",
      "Requirement already satisfied: sniffio>=1.3.0 in c:\\users\\hmaze\\.conda\\envs\\analysis\\lib\\site-packages (from trio~=0.17->selenium->selenium_stealth) (1.3.1)\n",
      "Requirement already satisfied: cffi>=1.14 in c:\\users\\hmaze\\appdata\\roaming\\python\\python310\\site-packages (from trio~=0.17->selenium->selenium_stealth) (1.15.0)\n",
      "Requirement already satisfied: exceptiongroup in c:\\users\\hmaze\\.conda\\envs\\analysis\\lib\\site-packages (from trio~=0.17->selenium->selenium_stealth) (1.2.0)\n",
      "Requirement already satisfied: wsproto>=0.14 in c:\\users\\hmaze\\.conda\\envs\\analysis\\lib\\site-packages (from trio-websocket~=0.9->selenium->selenium_stealth) (1.2.0)\n",
      "Requirement already satisfied: pysocks!=1.5.7,<2.0,>=1.5.6 in c:\\users\\hmaze\\.conda\\envs\\analysis\\lib\\site-packages (from urllib3[socks]<3,>=1.26->selenium->selenium_stealth) (1.7.1)\n",
      "Requirement already satisfied: pycparser in c:\\users\\hmaze\\appdata\\roaming\\python\\python310\\site-packages (from cffi>=1.14->trio~=0.17->selenium->selenium_stealth) (2.21)\n",
      "Requirement already satisfied: h11<1,>=0.9.0 in c:\\users\\hmaze\\.conda\\envs\\analysis\\lib\\site-packages (from wsproto>=0.14->trio-websocket~=0.9->selenium->selenium_stealth) (0.14.0)\n",
      "Downloading selenium_stealth-1.0.6-py3-none-any.whl (32 kB)\n",
      "Installing collected packages: selenium_stealth\n",
      "Successfully installed selenium_stealth-1.0.6\n"
     ]
    },
    {
     "name": "stderr",
     "output_type": "stream",
     "text": [
      "WARNING: Error parsing dependencies of bleach: Expected matching RIGHT_PARENTHESIS for LEFT_PARENTHESIS, after version specifier\n",
      "    tinycss2 (>=1.1.0<1.2) ; extra == 'css'\n",
      "             ~~~~~~~~^\n"
     ]
    }
   ],
   "source": [
    "!pip install selenium_stealth\n"
   ]
  },
  {
   "cell_type": "code",
   "execution_count": null,
   "metadata": {},
   "outputs": [],
   "source": []
  }
 ],
 "metadata": {
  "kernelspec": {
   "display_name": "Analysis",
   "language": "python",
   "name": "python3"
  },
  "language_info": {
   "codemirror_mode": {
    "name": "ipython",
    "version": 3
   },
   "file_extension": ".py",
   "mimetype": "text/x-python",
   "name": "python",
   "nbconvert_exporter": "python",
   "pygments_lexer": "ipython3",
   "version": "3.10.16"
  }
 },
 "nbformat": 4,
 "nbformat_minor": 2
}
